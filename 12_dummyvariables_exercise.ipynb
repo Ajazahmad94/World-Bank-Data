{
 "cells": [
  {
   "cell_type": "markdown",
   "metadata": {},
   "source": [
    "# Dummy Variables Exercise\n",
    "\n",
    "In this exercise, you'll create dummy variables from the projects data set. The idea is to transform categorical data like this:\n",
    "\n",
    "| Project ID | Project Category |\n",
    "|------------|------------------|\n",
    "| 0          | Energy           |\n",
    "| 1          | Transportation   |\n",
    "| 2          | Health           |\n",
    "| 3          | Employment       |\n",
    "\n",
    "into new features that look like this:\n",
    "\n",
    "| Project ID | Energy | Transportation | Health | Employment |\n",
    "|------------|--------|----------------|--------|------------|\n",
    "| 0          | 1      | 0              | 0      | 0          |\n",
    "| 1          | 0      | 1              | 0      | 0          |\n",
    "| 2          | 0      | 0              | 1      | 0          |\n",
    "| 3          | 0      | 0              | 0      | 1          |\n",
    "\n",
    "\n",
    "(Note if you were going to use this data with a model influenced by multicollinearity, you would want to eliminate one of the columns to avoid redundant information.) \n",
    "\n",
    "The reasoning behind these transformations is that machine learning algorithms read in numbers not text. Text needs to be converted into numbers. You could assign a number to each category like 1, 2, 3, and 4. But a categorical variable has no inherent order, so you want to reflect this in your features.\n",
    "\n",
    "Pandas makes it very easy to create dummy variables with the [get_dummies](https://pandas.pydata.org/pandas-docs/stable/generated/pandas.get_dummies.html) method. In this exercise, you'll create dummy variables from the World Bank projects data; however, there's a caveat. The World Bank data is not particularly clean, so you'll need to explore and wrangle the data first.\n",
    "\n",
    "You'll focus on the text values in the sector variables.\n",
    "\n",
    "Run the code cells below to read in the World Bank projects data set and then to filter out the data for text variables. "
   ]
  },
  {
   "cell_type": "code",
   "execution_count": 1,
   "metadata": {},
   "outputs": [],
   "source": [
    "import pandas as pd\n",
    "import numpy as np\n",
    "\n",
    "# read in the projects data set and do basic wrangling \n",
    "projects = pd.read_csv('C:/Users/Ajaz/Python/Udacity/3. Data Engineering/1 csv_exercise/projects_data.csv', dtype=str)\n",
    "projects.drop('Unnamed: 56', axis=1, inplace=True)\n",
    "projects['totalamt'] = pd.to_numeric(projects['totalamt'].str.replace(',', ''))\n",
    "projects['countryname'] = projects['countryname'].str.split(';', expand=True)[0]\n",
    "projects['boardapprovaldate'] = pd.to_datetime(projects['boardapprovaldate'])\n",
    "\n",
    "# keep the project name, lending, sector and theme data\n",
    "sector = projects.copy()\n",
    "sector = sector[['project_name', 'lendinginstr', 'sector1', 'sector2', 'sector3', 'sector4', 'sector5', 'sector',\n",
    "          'mjsector1', 'mjsector2', 'mjsector3', 'mjsector4', 'mjsector5',\n",
    "          'mjsector', 'theme1', 'theme2', 'theme3', 'theme4', 'theme5', 'theme ',\n",
    "          'goal', 'financier', 'mjtheme1name', 'mjtheme2name', 'mjtheme3name',\n",
    "          'mjtheme4name', 'mjtheme5name']]"
   ]
  },
  {
   "cell_type": "markdown",
   "metadata": {},
   "source": [
    "Run the code cell below. This cell shows the percentage of each variable that is null. Notice the mjsector1 through mjsector5 variables are all null. The mjtheme1name through mjtheme5name are also all null as well as the theme variable. \n",
    "\n",
    "Because these variables contain so many null values, they're probably not very useful."
   ]
  },
  {
   "cell_type": "code",
   "execution_count": 5,
   "metadata": {},
   "outputs": [],
   "source": [
    "#sector.isnull().sum()"
   ]
  },
  {
   "cell_type": "code",
   "execution_count": 4,
   "metadata": {},
   "outputs": [
    {
     "data": {
      "text/plain": [
       "18248"
      ]
     },
     "execution_count": 4,
     "metadata": {},
     "output_type": "execute_result"
    }
   ],
   "source": [
    "sector.shape[0]"
   ]
  },
  {
   "cell_type": "code",
   "execution_count": 62,
   "metadata": {},
   "outputs": [
    {
     "data": {
      "text/plain": [
       "project_name      0.000000\n",
       "lendinginstr      1.348093\n",
       "sector1           0.000000\n",
       "sector2          47.791539\n",
       "sector3          64.450899\n",
       "sector4          76.019290\n",
       "sector5          85.132617\n",
       "sector            3.496274\n",
       "mjsector1       100.000000\n",
       "mjsector2       100.000000\n",
       "mjsector3       100.000000\n",
       "mjsector4       100.000000\n",
       "mjsector5       100.000000\n",
       "mjsector          3.496274\n",
       "theme1            0.000000\n",
       "theme2           46.005042\n",
       "theme3           58.987286\n",
       "theme4           71.317405\n",
       "theme5           83.954406\n",
       "theme           100.000000\n",
       "goal             33.510522\n",
       "financier        61.310829\n",
       "mjtheme1name    100.000000\n",
       "mjtheme2name    100.000000\n",
       "mjtheme3name    100.000000\n",
       "mjtheme4name    100.000000\n",
       "mjtheme5name    100.000000\n",
       "dtype: float64"
      ]
     },
     "execution_count": 62,
     "metadata": {},
     "output_type": "execute_result"
    }
   ],
   "source": [
    "# output percentage of values that are missing\n",
    "100 * sector.isnull().sum() / sector.shape[0]"
   ]
  },
  {
   "cell_type": "markdown",
   "metadata": {},
   "source": [
    "# Exercise 1\n",
    "\n",
    "The sector1 variable looks promising; it doesn't contain any null values at all. In the next cell, store the unique sector1 values in a list and output the results. Use the sort_values() and unique() methods."
   ]
  },
  {
   "cell_type": "code",
   "execution_count": 6,
   "metadata": {},
   "outputs": [
    {
     "data": {
      "text/plain": [
       "array(['!$!0', 'Social Protection!$!63!$!SA', 'Urban Transport!$!95!$!TC',\n",
       "       ..., 'Sewerage!$!79!$!WS',\n",
       "       'Public Administration - Information and Communications Technologies!$!3!$!CF',\n",
       "       '(Historic)HIV/AIDS!$!100!$!HA'], dtype=object)"
      ]
     },
     "execution_count": 6,
     "metadata": {},
     "output_type": "execute_result"
    }
   ],
   "source": [
    "# TODO: Create a list of the unique values in sector1. Use the sort_values() and unique() pandas methods. \n",
    "# And then convert those results into a Python list\n",
    "\n",
    "uniquesectors1 = sector.sector1.unique()\n",
    "uniquesectors1"
   ]
  },
  {
   "cell_type": "code",
   "execution_count": 7,
   "metadata": {},
   "outputs": [
    {
     "name": "stdout",
     "output_type": "stream",
     "text": [
      "Number of unique values in sector1: 3060\n"
     ]
    }
   ],
   "source": [
    "# run this code cell to see the number of unique values\n",
    "print('Number of unique values in sector1:', len(uniquesectors1))"
   ]
  },
  {
   "cell_type": "markdown",
   "metadata": {},
   "source": [
    "3060 different categories is quite a lot! Remember that with dummy variables, if you have n categorical values, you need n - 1 new variables! That means 3059 extra columns! "
   ]
  },
  {
   "cell_type": "markdown",
   "metadata": {},
   "source": [
    "# Exercise 2\n",
    "\n",
    "There are a few issues with this 'sector1' variable. First, there are values labeled '!$!0'. These should be substituted with NaN.\n",
    "\n",
    "Furthermore, each sector1 value ends with a ten or eleven character string like '!$!49!$!EP'. Some sectors show up twice in the list like:\n",
    " 'Other Industry; Trade and Services!$!70!$!YZ',\n",
    " 'Other Industry; Trade and Services!$!63!$!YZ',\n",
    "\n",
    "But it seems like those are actually the same sector. You'll need to remove everything past the exclamation point. \n",
    "\n",
    "Many values in the sector1 variable start with the term '(Historic)'. Try removing that phrase as well.\n",
    "\n",
    "### replace() method\n",
    "\n",
    "With pandas, you can use the replace() method to search for text and replace parts of a string with another string. If you know the exact string you're looking for, the replace() method is straight forward. For example, say you wanted to remove the string '(Trial)' from this data:\n",
    "\n",
    "| data                     |\n",
    "|--------------------------|\n",
    "| '(Trial) Banking'        |\n",
    "| 'Banking'                |\n",
    "| 'Farming'                |\n",
    "| '(Trial) Transportation' |\n",
    "\n",
    "You could use `df['data'].replace('(Trial'), '')` to replace (Trial) with an empty string.\n",
    "\n",
    "### regular expressions\n",
    "What about this data?\n",
    "\n",
    "| data                                           |\n",
    "|------------------------------------------------|\n",
    "| 'Other Industry; Trade and Services?$ab' |\n",
    "| 'Other Industry; Trade and Services?ceg' |\n",
    "\n",
    "This type of data is trickier. In this case, there's a pattern where you want to remove a string that starts with an exclamation point and then has an unknown number of characters after it. When you need to match patterns of character, you can use [regular expressions](https://en.wikipedia.org/wiki/Regular_expression).\n",
    "\n",
    "The replace method can take a regular expression. So\n",
    "df['data'].replace('?.+', regex=True) where '?.+' means find a set of characters that starts with a question mark is then followed by one or more characters. You can see a [regular expression cheat sheet](https://medium.com/factory-mind/regex-tutorial-a-simple-cheatsheet-by-examples-649dc1c3f285) here.\n",
    "\n",
    "Fix these issues in the code cell below."
   ]
  },
  {
   "cell_type": "code",
   "execution_count": 38,
   "metadata": {
    "scrolled": true
   },
   "outputs": [
    {
     "data": {
      "text/plain": [
       "array(['numpy.nan', 'Social Protection', 'Urban Transport',\n",
       "       'Other Public Administration',\n",
       "       'Workforce Development and Vocational Education',\n",
       "       'Energy Transmission and Distribution', 'Renewable Energy Solar',\n",
       "       'Other Industry; Trade and Services', 'Health', 'Water Supply',\n",
       "       'Primary Education',\n",
       "       'Other Water Supply; Sanitation and Waste Management',\n",
       "       'Public Administration - Energy and Extractives',\n",
       "       'Central Government (Central Agencies)', 'ICT Services',\n",
       "       'Rural and Inter-Urban Roads', 'Public Administration - Education',\n",
       "       'Sub-National Government', 'Other Education',\n",
       "       'Other Transportation', 'Renewable Energy Hydro',\n",
       "       'Public Administration - Agriculture; Fishing & Forestry',\n",
       "       'Public Administration - Transportation', 'Oil and Gas',\n",
       "       'Other Non-bank Financial Institutions', 'Ports/Waterways',\n",
       "       'Public Administration - Financial Sector', 'Mining',\n",
       "       'Public Administration - Social Protection',\n",
       "       'Agricultural Extension; Research; and Other Support Activities',\n",
       "       'Tertiary Education', 'Secondary Education', 'Crops',\n",
       "       'Housing Construction', 'Livestock',\n",
       "       'Public Administration - Industry; Trade and Services',\n",
       "       'Other Information and Communications Technologies',\n",
       "       'Renewable Energy Biomass', 'Early Childhood Education',\n",
       "       'Manufacturing', 'Public Administration - Health',\n",
       "       'ICT Infrastructure', 'Other Agriculture; Fishing and Forestry',\n",
       "       'Agricultural markets; commercialization and agri-business',\n",
       "       'Renewable Energy Wind', 'Forestry', 'Fisheries',\n",
       "       'Banking Institutions', 'Irrigation and Drainage', 'Trade',\n",
       "       'Non-Renewable Energy Generation',\n",
       "       'Adult; Basic and Continuing Education', 'Railways',\n",
       "       'Other Energy and Extractives', 'Aviation', 'Tourism',\n",
       "       'Waste Management',\n",
       "       'Public Administration - Water; Sanitation and Waste Management',\n",
       "       'Sanitation', 'Insurance and Pension',\n",
       "       'Health Facilities and Construction', 'Capital Markets',\n",
       "       'Renewable Energy Geothermal', 'Law and Justice',\n",
       "       'Public Administration - Information and Communications Technologies',\n",
       "       'Power', 'Roads and highways', 'Renewable energy',\n",
       "       'Micro- and SME finance', 'Agro-industry', 'Media', 'Sewerage',\n",
       "       'Distribution and transmission', 'Research',\n",
       "       'Natural resources management', 'Other agriculture',\n",
       "       'Macro/non-trade', 'Postal services', 'Other finance',\n",
       "       'Other public sector management', 'Public financial management',\n",
       "       'Energy efficiency in Heat and Power', 'Other environment',\n",
       "       'Pollution control / waste management', 'Other social services',\n",
       "       'Other industry', 'Housing construction', 'Vocational training',\n",
       "       'Telecommunications', 'Petrochemicals and fertilizers',\n",
       "       'Animal production', 'Economic management', 'Housing finance',\n",
       "       'Thermal', 'Telecommunications and informatics',\n",
       "       'Refining; storage and distribution', 'Financial adjustment',\n",
       "       'General finance sector', 'Public sector management adjustment',\n",
       "       'Other transportation', 'Urban water supply', 'Urban management',\n",
       "       'Industrial adjustment', 'Agricultural credit',\n",
       "       'Agriculture adjustment', 'Industrial restructuring',\n",
       "       'Business environment',\n",
       "       'Compulsory pension and unemployment insurance',\n",
       "       'Transportation adjustment', 'Highways',\n",
       "       'Mining and other extractive', 'Oil and gas adjustment',\n",
       "       'Small scale enterprise', 'Education adjustment',\n",
       "       'Electric power and other energy adjustment', 'Urban housing',\n",
       "       'Financial sector development', 'Trade policy reform',\n",
       "       'Oil and gas exploration and development', 'Non-sector specific',\n",
       "       'Other education', 'Urban development adjustment',\n",
       "       'Other power and energy conversion', 'Targeted health',\n",
       "       'Public enterprise reform', 'Hydro',\n",
       "       'Fertilizer and other chemicals', 'Agro-industry and marketing',\n",
       "       'Perennial crops', 'Flood protection', 'Urban transport',\n",
       "       'Rural roads', 'Other population; health and nutrition',\n",
       "       'Institutional Development', 'Agricultural extension',\n",
       "       'Basic health', 'Annual crops',\n",
       "       'Other water supply and sanitation', 'Other urban development',\n",
       "       'Urban environment', 'Pre-investment / portfolio development',\n",
       "       'Oil and gas transportation', 'Rural water supply and sanitation',\n",
       "       'Water supply and sanitation adjustment', 'Other fuels',\n",
       "       'Environmental institutions', 'Other social protection',\n",
       "       'Civil service reform', 'Privatization',\n",
       "       'Pensions and social insurance', 'Social protection adjustment',\n",
       "       'Agency reform', 'Environment adjustment',\n",
       "       'Population; health and nutrition adjustment', 'Decentralization',\n",
       "       'HIV/AIDS'], dtype=object)"
      ]
     },
     "execution_count": 38,
     "metadata": {},
     "output_type": "execute_result"
    }
   ],
   "source": [
    "sector.sector1.unique()"
   ]
  },
  {
   "cell_type": "code",
   "execution_count": 26,
   "metadata": {},
   "outputs": [],
   "source": [
    "#df_projects['totalamt'] = pd.to_numeric(df_projects['totalamt'].str.replace(',',\"\"))"
   ]
  },
  {
   "cell_type": "code",
   "execution_count": 24,
   "metadata": {},
   "outputs": [],
   "source": []
  },
  {
   "cell_type": "code",
   "execution_count": null,
   "metadata": {},
   "outputs": [],
   "source": []
  },
  {
   "cell_type": "code",
   "execution_count": null,
   "metadata": {},
   "outputs": [],
   "source": []
  },
  {
   "cell_type": "code",
   "execution_count": 37,
   "metadata": {},
   "outputs": [
    {
     "name": "stdout",
     "output_type": "stream",
     "text": [
      "Number of unique sectors after cleaning: 156\n",
      "Percentage of null values after cleaning: 0.0\n"
     ]
    }
   ],
   "source": [
    "# TODO: In the sector1 variable, replace the string '!$10' with nan\n",
    "#       Put the results back into the sector1 variable\n",
    "# HINT: you can use the pandas replace() method and numpy.nan\n",
    "\n",
    "sector['sector1']=sector['sector1'].replace('!$!0',\"numpy.nan\")\n",
    "\n",
    "# TODO: In the sector1 variable, remove the last 10 or 11 characters from the sector1 variable.\n",
    "# HINT: There is more than one way to do this. To do it with one line of code,\n",
    "# you can use the replace method with a regex expression '!.+'\n",
    "# That regex expression looks for a string with an exclamation\n",
    "# point followed by one or more characters\n",
    "\n",
    "sector['sector1']=sector['sector1'].replace('!.+',\"\",regex=True)\n",
    "\n",
    "\n",
    "# TODO: Remove the string '(Historic)' from the sector1 variable\n",
    "# HINT: You can use the replace method.\n",
    "\n",
    "sector['sector1']=sector['sector1'].replace('^(\\(Historic\\))',\"\",regex=True)\n",
    "\n",
    "\n",
    "print('Number of unique sectors after cleaning:', len(list(sector['sector1'].unique())))\n",
    "print('Percentage of null values after cleaning:', 100 * sector['sector1'].isnull().sum() / sector['sector1'].shape[0])"
   ]
  },
  {
   "cell_type": "markdown",
   "metadata": {},
   "source": [
    "Now there are 156 unique categorical values. That's better than 3060. If you were going to use this data with a supervised learning machine model, you could try converting these 156 values to dummy variables. You'd still have to train and test a model to see if those are good features.\n",
    "\n",
    "You could try to consolidate similar categories together, which is what the challenge exercise in part 4 is about.\n",
    "\n",
    "There are also still many entries with NaN values. How could you fill these in? \n",
    "\n",
    "You might try to determine an appropriate category from the 'project_name' or 'lendinginstr' variables. If you make dummy variables including NaN values, then you could consider a feature with all zeros to represent NaN. Or you could delete these records from the data set. Pandas will ignore NaN values by default. That means, for a given row, all dummy variables will have a value of 0 if the sector1 value was NaN.\n",
    "\n",
    "Don't forget about the bigger context! This data is being prepared for a machine learning algorithm. Whatever techniques you use to engineer new features, you'll need to use those when running your model on new data. So if your new data does not contain a sector1 value, you'll have to run whatever feature engineering processes you did on your training set."
   ]
  },
  {
   "cell_type": "markdown",
   "metadata": {},
   "source": [
    "# Exercise 3\n",
    "\n",
    "In this next exercise, use the pandas pd.get_dummies() method to create dummy variables. Then use the concat() method to concatenate the dummy variables to a dataframe that contains the project totalamt variable and the project year from the boardapprovaldate."
   ]
  },
  {
   "cell_type": "code",
   "execution_count": null,
   "metadata": {},
   "outputs": [],
   "source": [
    "dummies = pd.DataFrame(pd.get_dummies(sector['sector1']))"
   ]
  },
  {
   "cell_type": "code",
   "execution_count": null,
   "metadata": {},
   "outputs": [],
   "source": [
    "#dummies"
   ]
  },
  {
   "cell_type": "code",
   "execution_count": 44,
   "metadata": {},
   "outputs": [],
   "source": [
    "df=projects"
   ]
  },
  {
   "cell_type": "code",
   "execution_count": null,
   "metadata": {},
   "outputs": [],
   "source": [
    "df.drop(totalamt,boardapprovaldate)"
   ]
  },
  {
   "cell_type": "code",
   "execution_count": 46,
   "metadata": {},
   "outputs": [
    {
     "data": {
      "text/plain": [
       "0       2018-06-28 00:00:00+00:00\n",
       "1       2018-06-28 00:00:00+00:00\n",
       "2       2018-06-28 00:00:00+00:00\n",
       "3       2018-06-27 00:00:00+00:00\n",
       "4       2018-06-27 00:00:00+00:00\n",
       "                   ...           \n",
       "18243   1948-03-25 00:00:00+00:00\n",
       "18244   1947-08-28 00:00:00+00:00\n",
       "18245   1947-08-22 00:00:00+00:00\n",
       "18246   1947-08-07 00:00:00+00:00\n",
       "18247   1947-05-09 00:00:00+00:00\n",
       "Name: boardapprovaldate, Length: 18248, dtype: datetime64[ns, UTC]"
      ]
     },
     "execution_count": 46,
     "metadata": {},
     "output_type": "execute_result"
    }
   ],
   "source": [
    "projects.boardapprovaldate"
   ]
  },
  {
   "cell_type": "code",
   "execution_count": 47,
   "metadata": {},
   "outputs": [],
   "source": [
    "projects['year'] = projects['boardapprovaldate'].dt.year"
   ]
  },
  {
   "cell_type": "code",
   "execution_count": 50,
   "metadata": {},
   "outputs": [
    {
     "name": "stdout",
     "output_type": "stream",
     "text": [
      "18248\n",
      "18248\n"
     ]
    }
   ],
   "source": [
    "print(len(projects['totalamt']))\n",
    "print(len(projects['year']))"
   ]
  },
  {
   "cell_type": "code",
   "execution_count": 57,
   "metadata": {},
   "outputs": [],
   "source": [
    "df =projects[['totalamt', 'year']]"
   ]
  },
  {
   "cell_type": "code",
   "execution_count": 53,
   "metadata": {},
   "outputs": [
    {
     "data": {
      "text/html": [
       "<div>\n",
       "<style scoped>\n",
       "    .dataframe tbody tr th:only-of-type {\n",
       "        vertical-align: middle;\n",
       "    }\n",
       "\n",
       "    .dataframe tbody tr th {\n",
       "        vertical-align: top;\n",
       "    }\n",
       "\n",
       "    .dataframe thead th {\n",
       "        text-align: right;\n",
       "    }\n",
       "</style>\n",
       "<table border=\"1\" class=\"dataframe\">\n",
       "  <thead>\n",
       "    <tr style=\"text-align: right;\">\n",
       "      <th></th>\n",
       "      <th>0</th>\n",
       "      <th>1</th>\n",
       "      <th>2</th>\n",
       "      <th>3</th>\n",
       "      <th>4</th>\n",
       "      <th>5</th>\n",
       "      <th>6</th>\n",
       "      <th>7</th>\n",
       "      <th>8</th>\n",
       "      <th>9</th>\n",
       "      <th>...</th>\n",
       "      <th>18238</th>\n",
       "      <th>18239</th>\n",
       "      <th>18240</th>\n",
       "      <th>18241</th>\n",
       "      <th>18242</th>\n",
       "      <th>18243</th>\n",
       "      <th>18244</th>\n",
       "      <th>18245</th>\n",
       "      <th>18246</th>\n",
       "      <th>18247</th>\n",
       "    </tr>\n",
       "  </thead>\n",
       "  <tbody>\n",
       "    <tr>\n",
       "      <th>totalamt</th>\n",
       "      <td>0.0</td>\n",
       "      <td>200000000.0</td>\n",
       "      <td>58330000.0</td>\n",
       "      <td>20000000.0</td>\n",
       "      <td>100000000.0</td>\n",
       "      <td>500000000.0</td>\n",
       "      <td>350000000.0</td>\n",
       "      <td>225000000.0</td>\n",
       "      <td>125000000.0</td>\n",
       "      <td>329900000.0</td>\n",
       "      <td>...</td>\n",
       "      <td>10000000.0</td>\n",
       "      <td>4000000.0</td>\n",
       "      <td>2000000.0</td>\n",
       "      <td>2000000.0</td>\n",
       "      <td>2500000.0</td>\n",
       "      <td>13500000.0</td>\n",
       "      <td>12000000.0</td>\n",
       "      <td>40000000.0</td>\n",
       "      <td>195000000.0</td>\n",
       "      <td>250000000.0</td>\n",
       "    </tr>\n",
       "    <tr>\n",
       "      <th>year</th>\n",
       "      <td>2018.0</td>\n",
       "      <td>2018.0</td>\n",
       "      <td>2018.0</td>\n",
       "      <td>2018.0</td>\n",
       "      <td>2018.0</td>\n",
       "      <td>2018.0</td>\n",
       "      <td>2018.0</td>\n",
       "      <td>2018.0</td>\n",
       "      <td>2018.0</td>\n",
       "      <td>2018.0</td>\n",
       "      <td>...</td>\n",
       "      <td>1949.0</td>\n",
       "      <td>1948.0</td>\n",
       "      <td>1948.0</td>\n",
       "      <td>1948.0</td>\n",
       "      <td>1948.0</td>\n",
       "      <td>1948.0</td>\n",
       "      <td>1947.0</td>\n",
       "      <td>1947.0</td>\n",
       "      <td>1947.0</td>\n",
       "      <td>1947.0</td>\n",
       "    </tr>\n",
       "  </tbody>\n",
       "</table>\n",
       "<p>2 rows × 18248 columns</p>\n",
       "</div>"
      ],
      "text/plain": [
       "           0            1           2           3            4      \\\n",
       "totalamt     0.0  200000000.0  58330000.0  20000000.0  100000000.0   \n",
       "year      2018.0       2018.0      2018.0      2018.0       2018.0   \n",
       "\n",
       "                5            6            7            8            9      \\\n",
       "totalamt  500000000.0  350000000.0  225000000.0  125000000.0  329900000.0   \n",
       "year           2018.0       2018.0       2018.0       2018.0       2018.0   \n",
       "\n",
       "          ...       18238      18239      18240      18241      18242  \\\n",
       "totalamt  ...  10000000.0  4000000.0  2000000.0  2000000.0  2500000.0   \n",
       "year      ...      1949.0     1948.0     1948.0     1948.0     1948.0   \n",
       "\n",
       "               18243       18244       18245        18246        18247  \n",
       "totalamt  13500000.0  12000000.0  40000000.0  195000000.0  250000000.0  \n",
       "year          1948.0      1947.0      1947.0       1947.0       1947.0  \n",
       "\n",
       "[2 rows x 18248 columns]"
      ]
     },
     "execution_count": 53,
     "metadata": {},
     "output_type": "execute_result"
    }
   ],
   "source": [
    "df =pd.DataFrame(projects['totalamt','year')"
   ]
  },
  {
   "cell_type": "code",
   "execution_count": 61,
   "metadata": {},
   "outputs": [
    {
     "data": {
      "text/html": [
       "<div>\n",
       "<style scoped>\n",
       "    .dataframe tbody tr th:only-of-type {\n",
       "        vertical-align: middle;\n",
       "    }\n",
       "\n",
       "    .dataframe tbody tr th {\n",
       "        vertical-align: top;\n",
       "    }\n",
       "\n",
       "    .dataframe thead th {\n",
       "        text-align: right;\n",
       "    }\n",
       "</style>\n",
       "<table border=\"1\" class=\"dataframe\">\n",
       "  <thead>\n",
       "    <tr style=\"text-align: right;\">\n",
       "      <th></th>\n",
       "      <th>totalamt</th>\n",
       "      <th>year</th>\n",
       "      <th>Adult; Basic and Continuing Education</th>\n",
       "      <th>Agency reform</th>\n",
       "      <th>Agricultural Extension; Research; and Other Support Activities</th>\n",
       "      <th>Agricultural credit</th>\n",
       "      <th>Agricultural extension</th>\n",
       "      <th>Agricultural markets; commercialization and agri-business</th>\n",
       "      <th>Agriculture adjustment</th>\n",
       "      <th>Agro-industry</th>\n",
       "      <th>...</th>\n",
       "      <th>Urban housing</th>\n",
       "      <th>Urban management</th>\n",
       "      <th>Urban transport</th>\n",
       "      <th>Urban water supply</th>\n",
       "      <th>Vocational training</th>\n",
       "      <th>Waste Management</th>\n",
       "      <th>Water Supply</th>\n",
       "      <th>Water supply and sanitation adjustment</th>\n",
       "      <th>Workforce Development and Vocational Education</th>\n",
       "      <th>numpy.nan</th>\n",
       "    </tr>\n",
       "  </thead>\n",
       "  <tbody>\n",
       "    <tr>\n",
       "      <th>0</th>\n",
       "      <td>0</td>\n",
       "      <td>2018.0</td>\n",
       "      <td>0</td>\n",
       "      <td>0</td>\n",
       "      <td>0</td>\n",
       "      <td>0</td>\n",
       "      <td>0</td>\n",
       "      <td>0</td>\n",
       "      <td>0</td>\n",
       "      <td>0</td>\n",
       "      <td>...</td>\n",
       "      <td>0</td>\n",
       "      <td>0</td>\n",
       "      <td>0</td>\n",
       "      <td>0</td>\n",
       "      <td>0</td>\n",
       "      <td>0</td>\n",
       "      <td>0</td>\n",
       "      <td>0</td>\n",
       "      <td>0</td>\n",
       "      <td>1</td>\n",
       "    </tr>\n",
       "    <tr>\n",
       "      <th>1</th>\n",
       "      <td>200000000</td>\n",
       "      <td>2018.0</td>\n",
       "      <td>0</td>\n",
       "      <td>0</td>\n",
       "      <td>0</td>\n",
       "      <td>0</td>\n",
       "      <td>0</td>\n",
       "      <td>0</td>\n",
       "      <td>0</td>\n",
       "      <td>0</td>\n",
       "      <td>...</td>\n",
       "      <td>0</td>\n",
       "      <td>0</td>\n",
       "      <td>0</td>\n",
       "      <td>0</td>\n",
       "      <td>0</td>\n",
       "      <td>0</td>\n",
       "      <td>0</td>\n",
       "      <td>0</td>\n",
       "      <td>0</td>\n",
       "      <td>1</td>\n",
       "    </tr>\n",
       "    <tr>\n",
       "      <th>2</th>\n",
       "      <td>58330000</td>\n",
       "      <td>2018.0</td>\n",
       "      <td>0</td>\n",
       "      <td>0</td>\n",
       "      <td>0</td>\n",
       "      <td>0</td>\n",
       "      <td>0</td>\n",
       "      <td>0</td>\n",
       "      <td>0</td>\n",
       "      <td>0</td>\n",
       "      <td>...</td>\n",
       "      <td>0</td>\n",
       "      <td>0</td>\n",
       "      <td>0</td>\n",
       "      <td>0</td>\n",
       "      <td>0</td>\n",
       "      <td>0</td>\n",
       "      <td>0</td>\n",
       "      <td>0</td>\n",
       "      <td>0</td>\n",
       "      <td>1</td>\n",
       "    </tr>\n",
       "    <tr>\n",
       "      <th>3</th>\n",
       "      <td>20000000</td>\n",
       "      <td>2018.0</td>\n",
       "      <td>0</td>\n",
       "      <td>0</td>\n",
       "      <td>0</td>\n",
       "      <td>0</td>\n",
       "      <td>0</td>\n",
       "      <td>0</td>\n",
       "      <td>0</td>\n",
       "      <td>0</td>\n",
       "      <td>...</td>\n",
       "      <td>0</td>\n",
       "      <td>0</td>\n",
       "      <td>0</td>\n",
       "      <td>0</td>\n",
       "      <td>0</td>\n",
       "      <td>0</td>\n",
       "      <td>0</td>\n",
       "      <td>0</td>\n",
       "      <td>0</td>\n",
       "      <td>1</td>\n",
       "    </tr>\n",
       "    <tr>\n",
       "      <th>4</th>\n",
       "      <td>100000000</td>\n",
       "      <td>2018.0</td>\n",
       "      <td>0</td>\n",
       "      <td>0</td>\n",
       "      <td>0</td>\n",
       "      <td>0</td>\n",
       "      <td>0</td>\n",
       "      <td>0</td>\n",
       "      <td>0</td>\n",
       "      <td>0</td>\n",
       "      <td>...</td>\n",
       "      <td>0</td>\n",
       "      <td>0</td>\n",
       "      <td>0</td>\n",
       "      <td>0</td>\n",
       "      <td>0</td>\n",
       "      <td>0</td>\n",
       "      <td>0</td>\n",
       "      <td>0</td>\n",
       "      <td>0</td>\n",
       "      <td>0</td>\n",
       "    </tr>\n",
       "  </tbody>\n",
       "</table>\n",
       "<p>5 rows × 158 columns</p>\n",
       "</div>"
      ],
      "text/plain": [
       "    totalamt    year  Adult; Basic and Continuing Education  Agency reform  \\\n",
       "0          0  2018.0                                      0              0   \n",
       "1  200000000  2018.0                                      0              0   \n",
       "2   58330000  2018.0                                      0              0   \n",
       "3   20000000  2018.0                                      0              0   \n",
       "4  100000000  2018.0                                      0              0   \n",
       "\n",
       "   Agricultural Extension; Research; and Other Support Activities  \\\n",
       "0                                                  0                \n",
       "1                                                  0                \n",
       "2                                                  0                \n",
       "3                                                  0                \n",
       "4                                                  0                \n",
       "\n",
       "   Agricultural credit  Agricultural extension  \\\n",
       "0                    0                       0   \n",
       "1                    0                       0   \n",
       "2                    0                       0   \n",
       "3                    0                       0   \n",
       "4                    0                       0   \n",
       "\n",
       "   Agricultural markets; commercialization and agri-business  \\\n",
       "0                                                  0           \n",
       "1                                                  0           \n",
       "2                                                  0           \n",
       "3                                                  0           \n",
       "4                                                  0           \n",
       "\n",
       "   Agriculture adjustment  Agro-industry  ...  Urban housing  \\\n",
       "0                       0              0  ...              0   \n",
       "1                       0              0  ...              0   \n",
       "2                       0              0  ...              0   \n",
       "3                       0              0  ...              0   \n",
       "4                       0              0  ...              0   \n",
       "\n",
       "   Urban management  Urban transport  Urban water supply  Vocational training  \\\n",
       "0                 0                0                   0                    0   \n",
       "1                 0                0                   0                    0   \n",
       "2                 0                0                   0                    0   \n",
       "3                 0                0                   0                    0   \n",
       "4                 0                0                   0                    0   \n",
       "\n",
       "   Waste Management  Water Supply  Water supply and sanitation adjustment  \\\n",
       "0                 0             0                                       0   \n",
       "1                 0             0                                       0   \n",
       "2                 0             0                                       0   \n",
       "3                 0             0                                       0   \n",
       "4                 0             0                                       0   \n",
       "\n",
       "   Workforce Development and Vocational Education  numpy.nan  \n",
       "0                                               0          1  \n",
       "1                                               0          1  \n",
       "2                                               0          1  \n",
       "3                                               0          1  \n",
       "4                                               0          0  \n",
       "\n",
       "[5 rows x 158 columns]"
      ]
     },
     "execution_count": 61,
     "metadata": {},
     "output_type": "execute_result"
    }
   ],
   "source": [
    "# TODO: Create dummy variables from the sector1 data. Put the results into a dataframe called dummies\n",
    "# Hint: Use the get_dummies method\n",
    "dummies = pd.DataFrame(pd.get_dummies(sector['sector1']))\n",
    "\n",
    "# TODO: Create a new dataframe called df by \n",
    "#       filtering the projects data for the totalamt and\n",
    "#       the year from boardapprovaldate\n",
    "projects['year'] = projects['boardapprovaldate'].dt.year\n",
    "\n",
    "df =projects[['totalamt', 'year']]\n",
    "\n",
    "# TODO: Concatenate the results of dummies and projects\n",
    "#       into a single data frame\n",
    "\n",
    "\n",
    "df_final = pd.concat([df, dummies], axis=1)\n",
    "\n",
    "df_final.head()"
   ]
  },
  {
   "cell_type": "markdown",
   "metadata": {},
   "source": [
    "You could continue to consolidate sector values using other techniques. For example, in the next exercise, you'll find categories with similar terms and then combine them together. \n",
    "\n",
    "Keep in mind that how much to consolidate will depend on your machine learning model performance and your hardware's ability to handle the extra features in memory. If your hardware's memory can handle 3060 new features and your machine learning algorithm performs better, then go for it!"
   ]
  },
  {
   "cell_type": "markdown",
   "metadata": {},
   "source": [
    "# Exercise 4 (Challenge)\n",
    "\n",
    "But can you do anything else with the sector1 variable?\n",
    "\n",
    "The percentage of null values for 'sector1' is now 3.49%. That turns out to be the same number as the null values for the 'sector' column. You can see this if you scroll back up to where the code calculated the percentage of null values for each variable. \n",
    "\n",
    "Perhaps the 'sector1' and 'sector' variable have the same information. If you look at the 'sector' variable, however, it also needs cleaning. The values look like this:\n",
    "\n",
    "'Urban Transport;Urban Transport;Public Administration - Transportation'\n",
    "\n",
    "It turns out the 'sector' variable combines information from the 'sector1' through 'sector5' variables and the 'mjsector' variable. Run the code cell below to look at the sector variable."
   ]
  },
  {
   "cell_type": "code",
   "execution_count": 63,
   "metadata": {},
   "outputs": [
    {
     "data": {
      "text/plain": [
       "0                                                      NaN\n",
       "1                                                      NaN\n",
       "2                                                      NaN\n",
       "3                                                      NaN\n",
       "4        Social Protection;Social Protection;Other Indu...\n",
       "                               ...                        \n",
       "18243                      (Historic)Hydro;(Historic)Hydro\n",
       "18244    (Historic)Economic management;(Historic)Econom...\n",
       "18245    (Historic)Economic management;(Historic)Econom...\n",
       "18246    (Historic)Economic management;(Historic)Econom...\n",
       "18247    (Historic)Economic management;(Historic)Econom...\n",
       "Name: sector, Length: 18248, dtype: object"
      ]
     },
     "execution_count": 63,
     "metadata": {},
     "output_type": "execute_result"
    }
   ],
   "source": [
    "sector['sector']"
   ]
  },
  {
   "cell_type": "markdown",
   "metadata": {},
   "source": [
    "What else can you do? If you look at all of the diferent sector1 categories, it might be useful to combine a few of them together. For example, there are various categories with the term \"Energy\" in them. And then there are other categories that seem related to energy but don't have the word energy in them like \"Thermal\" and \"Hydro\". Some categories have the term \"Renewable Energy\", so perhaps you could make a separate \"Renewable Energy\" category.\n",
    "\n",
    "Similarly, there are categories with the term \"Transportation\" in them, and then there are related categories like \"Highways\".\n",
    "\n",
    "In the next cell, find all sector1 values with the term 'Energy' in them. For each of these rows, put the string 'energy' in a new column called 'sector1_aggregates'. Do the same for \"Transportation\". "
   ]
  },
  {
   "cell_type": "code",
   "execution_count": 64,
   "metadata": {},
   "outputs": [
    {
     "name": "stdout",
     "output_type": "stream",
     "text": [
      "Number of unique sectors after cleaning: 156\n"
     ]
    }
   ],
   "source": [
    "import re\n",
    "\n",
    "# Create the sector1_aggregates variable\n",
    "sector.loc[:,'sector1_aggregates'] = sector['sector1']\n",
    "\n",
    "# TODO: The code above created a new variable called sector1_aggregates. \n",
    "#       Currently, sector1_aggregates has all of the same values as sector1\n",
    "#       For this task, find all the rows in sector1_aggregates with the term 'Energy' in them, \n",
    "#       For all of these rows, replace whatever is the value is with the term 'Energy'.\n",
    "#       The idea is to simplify the category names by combining various categories together.\n",
    "#       Then, do the same for the term 'Transportation\n",
    "# HINT: You can use the contains() methods. See the documentation for how to ignore case using the re library\n",
    "# HINT: You might get an error saying \"cannot index with vector containing NA / NaN values.\" \n",
    "#       Try converting NaN values to something else like False or a string\n",
    "\n",
    "print('Number of unique sectors after cleaning:', len(list(sector['sector1_aggregates'].unique())))"
   ]
  },
  {
   "cell_type": "markdown",
   "metadata": {},
   "source": [
    "# Conclusion\n",
    "\n",
    "Pandas makes it relatively easy to create dummy variables; however, oftentimes you'll need to clean the data first."
   ]
  }
 ],
 "metadata": {
  "kernelspec": {
   "display_name": "Python 3",
   "language": "python",
   "name": "python3"
  },
  "language_info": {
   "codemirror_mode": {
    "name": "ipython",
    "version": 3
   },
   "file_extension": ".py",
   "mimetype": "text/x-python",
   "name": "python",
   "nbconvert_exporter": "python",
   "pygments_lexer": "ipython3",
   "version": "3.8.5"
  }
 },
 "nbformat": 4,
 "nbformat_minor": 2
}
